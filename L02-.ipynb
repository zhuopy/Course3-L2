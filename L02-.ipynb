{
 "cells": [
  {
   "cell_type": "code",
   "execution_count": 2,
   "metadata": {},
   "outputs": [],
   "source": [
    "import pandas as pd"
   ]
  },
  {
   "cell_type": "markdown",
   "metadata": {},
   "source": [
    "1. Read Data"
   ]
  },
  {
   "cell_type": "code",
   "execution_count": 3,
   "metadata": {},
   "outputs": [],
   "source": [
    "#read data\n",
    "df = pd.read_csv('Intrusion Detection.csv')\n",
    "#encode categorical data\n",
    "encode_list = ['protocol_type', 'service', 'flag', 'land', 'logged_in', 'root_shell', 'su_attempted',\n",
    "              'is_host_login', 'is_guest_login']\n",
    "df = pd.get_dummies(df, columns= encode_list)"
   ]
  },
  {
   "cell_type": "code",
   "execution_count": 4,
   "metadata": {},
   "outputs": [],
   "source": [
    "#select features and target variables \n",
    "features = ['duration', 'src_bytes', 'dst_bytes', 'wrong_fragment', 'urgent', 'hot',\n",
    "       'num_failed_logins', 'num_compromised', 'num_root',\n",
    "       'num_file_creations', 'num_shells', 'num_access_files',\n",
    "       'num_outbound_cmds', 'count', 'srv_count', 'serror_rate',\n",
    "       'srv_serror_rate', 'rerror_rate', 'srv_rerror_rate', 'same_srv_rate',\n",
    "       'diff_srv_rate', 'srv_diff_host_rate', 'dst_host_count',\n",
    "       'dst_host_srv_count', 'dst_host_same_srv_rate',\n",
    "       'dst_host_diff_srv_rate', 'dst_host_same_src_port_rate',\n",
    "       'dst_host_srv_diff_host_rate', 'dst_host_serror_rate',\n",
    "       'dst_host_srv_serror_rate', 'dst_host_rerror_rate',\n",
    "       'dst_host_srv_rerror_rate','protocol_type_icmp',\n",
    "       'protocol_type_tcp', 'protocol_type_udp', 'service_IRC', 'service_X11',\n",
    "       'service_auth', 'service_domain', 'service_domain_u', 'service_eco_i',\n",
    "       'service_ecr_i', 'service_finger', 'service_ftp', 'service_ftp_data',\n",
    "       'service_http', 'service_ntp_u', 'service_other', 'service_pop_3',\n",
    "       'service_private', 'service_red_i', 'service_shell', 'service_smtp',\n",
    "       'service_ssh', 'service_telnet', 'service_tftp_u', 'service_tim_i',\n",
    "       'service_time', 'service_urh_i', 'service_urp_i', 'flag_OTH',\n",
    "       'flag_REJ', 'flag_RSTO', 'flag_RSTR', 'flag_S0', 'flag_S1', 'flag_S2',\n",
    "       'flag_S3', 'flag_SF', 'land_0', 'land_1', 'logged_in_0', 'logged_in_1',\n",
    "       'root_shell_0', 'root_shell_1', 'su_attempted_0', 'su_attempted_1',\n",
    "       'su_attempted_2', 'is_host_login_0', 'is_guest_login_0',\n",
    "       'is_guest_login_1']\n",
    "\n",
    "X=df[features]\n",
    "y=df['Class']"
   ]
  },
  {
   "cell_type": "markdown",
   "metadata": {},
   "source": [
    "2. Build a classifier and 3. Determine your model accuracy"
   ]
  },
  {
   "cell_type": "code",
   "execution_count": 5,
   "metadata": {},
   "outputs": [
    {
     "name": "stdout",
     "output_type": "stream",
     "text": [
      "Accuracy: 0.999836\n"
     ]
    }
   ],
   "source": [
    "from sklearn.ensemble import RandomForestClassifier\n",
    "from sklearn.model_selection import train_test_split\n",
    "from sklearn.metrics import accuracy_score\n",
    "#split dataset\n",
    "X_train, X_test, y_train, y_test = train_test_split(X, y, random_state=0)\n",
    "#building classifier and train the model\n",
    "clf= RandomForestClassifier().fit(X_train, y_train)\n",
    "y_pred = clf.predict(X_test)\n",
    "#determine the accuracy score\n",
    "print('Accuracy: %.6f'%accuracy_score(y_test, y_pred))"
   ]
  },
  {
   "cell_type": "markdown",
   "metadata": {},
   "source": [
    "4. Modify data by handling class imbalance"
   ]
  },
  {
   "cell_type": "code",
   "execution_count": 6,
   "metadata": {},
   "outputs": [],
   "source": [
    "# !pip install imblearn --user"
   ]
  },
  {
   "cell_type": "code",
   "execution_count": 7,
   "metadata": {},
   "outputs": [],
   "source": [
    "# import SMOTE package\n",
    "from collections import Counter\n",
    "from imblearn.over_sampling import SMOTE "
   ]
  },
  {
   "cell_type": "code",
   "execution_count": 8,
   "metadata": {},
   "outputs": [
    {
     "data": {
      "text/plain": [
       "(pandas.core.frame.DataFrame, pandas.core.series.Series)"
      ]
     },
     "execution_count": 8,
     "metadata": {},
     "output_type": "execute_result"
    }
   ],
   "source": [
    "type(X), type(y)"
   ]
  },
  {
   "cell_type": "code",
   "execution_count": 9,
   "metadata": {},
   "outputs": [
    {
     "name": "stdout",
     "output_type": "stream",
     "text": [
      "Original dataset shape Counter({0: 97278, 1: 30})\n",
      "Resampled dataset shape Counter({0: 97278, 1: 97278})\n"
     ]
    }
   ],
   "source": [
    "print('Original dataset shape {}'.format(Counter(y)))\n",
    "sm = SMOTE(random_state=0)\n",
    "X_res, y_res = sm.fit_sample(X, y)\n",
    "print('Resampled dataset shape {}'.format(Counter(y_res)))"
   ]
  },
  {
   "cell_type": "markdown",
   "metadata": {},
   "source": [
    "Now, we have balanced sample, retrain the previous classifier."
   ]
  },
  {
   "cell_type": "code",
   "execution_count": 8,
   "metadata": {},
   "outputs": [
    {
     "name": "stdout",
     "output_type": "stream",
     "text": [
      "Accuracy: 0.999979\n"
     ]
    }
   ],
   "source": [
    "#split dataset\n",
    "X_train, X_test, y_train, y_test = train_test_split(X_res, y_res, random_state=0)\n",
    "#building classifier and train the model\n",
    "clf= RandomForestClassifier().fit(X_train, y_train)\n",
    "y_pred = clf.predict(X_test)\n",
    "#determine the accuracy score\n",
    "print('Accuracy: %.6f'%accuracy_score(y_test, y_pred))"
   ]
  },
  {
   "cell_type": "markdown",
   "metadata": {},
   "source": [
    "Summary:\n",
    "Using unbalanced samples, we found that the accuracy is quite good (0.99936), but it is most likely because the model has bias to the normal condition due to its abundancy. It's like all predictions are normal could still give high accuracy. After we have balanced by SMOTE, accuracy incraesed (0.999979). And more importantly, we are more confident with the model we trained because we have balanced sample."
   ]
  }
 ],
 "metadata": {
  "kernelspec": {
   "display_name": "Python 3",
   "language": "python",
   "name": "python3"
  },
  "language_info": {
   "codemirror_mode": {
    "name": "ipython",
    "version": 3
   },
   "file_extension": ".py",
   "mimetype": "text/x-python",
   "name": "python",
   "nbconvert_exporter": "python",
   "pygments_lexer": "ipython3",
   "version": "3.7.6"
  }
 },
 "nbformat": 4,
 "nbformat_minor": 4
}
